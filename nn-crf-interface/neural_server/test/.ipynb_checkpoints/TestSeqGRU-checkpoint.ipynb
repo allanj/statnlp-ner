{
 "cells": [
  {
   "cell_type": "code",
   "execution_count": 19,
   "metadata": {},
   "outputs": [],
   "source": [
    "require 'nn'\n",
    "require 'rnn'\n",
    "include '/Users/allanjie/Documents/workspace/statnlp-ner/nn-crf-interface/neural_server/SeqBRNNGRU.lua'\n",
    "torch.manualSeed(1234)"
   ]
  },
  {
   "cell_type": "code",
   "execution_count": 20,
   "metadata": {},
   "outputs": [],
   "source": [
    "embeddingSize = 3\n",
    "vocabSize = 5\n",
    "numSents = 2\n",
    "numWords = 3"
   ]
  },
  {
   "cell_type": "code",
   "execution_count": 39,
   "metadata": {},
   "outputs": [
    {
     "ename": "...rs/allanjie/torch/install/share/lua/5.2/rnn/MaskZero.lua:10: assertion failed!\nstack traceback:\n\t/Users/allanjie/torch/install/share/lua/5.2/itorch/main.lua:167: in function </Users/allanjie/torch/install/share/lua/5.2/itorch/main.lua:160>\n\t[C]: in function 'assert'\n\t...rs/allanjie/torch/install/share/lua/5.2/rnn/MaskZero.lua:10: in function '__init'\n\t/Users/allanjie/torch/install/share/lua/5.2/torch/init.lua:91: in function </Users/allanjie/torch/install/share/lua/5.2/torch/init.lua:87>\n\t[C]: in function 'MaskZero'\n\t[string \"lt = nn.LookupTableMaskZero(vocabSize, embedd...\"]:14: in function 'buildBiGRU'\n\t[string \"lt = nn.LookupTableMaskZero(vocabSize, embedd...\"]:27: in main chunk\n\t[C]: in function 'xpcall'\n\t/Users/allanjie/torch/install/share/lua/5.2/itorch/main.lua:210: in function </Users/allanjie/torch/install/share/lua/5.2/itorch/main.lua:174>\n\t(...tail calls...)\n\t/Users/allanjie/torch/install/share/lua/5.2/lzmq/poller.lua:80: in function 'poll'\n\t.../allanjie/torch/install/share/lua/5.2/lzmq/impl/loop.lua:307: in function 'poll'\n\t.../allanjie/torch/install/share/lua/5.2/lzmq/impl/loop.lua:325: in function 'sleep_ex'\n\t.../allanjie/torch/install/share/lua/5.2/lzmq/impl/loop.lua:370: in function 'start'\n\t/Users/allanjie/torch/install/share/lua/5.2/itorch/main.lua:389: in main chunk\n\t[C]: in function 'require'\n\t(command line):1: in main chunk\n\t[C]: in ?",
     "evalue": "",
     "output_type": "error",
     "traceback": [
      "...rs/allanjie/torch/install/share/lua/5.2/rnn/MaskZero.lua:10: assertion failed!\nstack traceback:\n\t/Users/allanjie/torch/install/share/lua/5.2/itorch/main.lua:167: in function </Users/allanjie/torch/install/share/lua/5.2/itorch/main.lua:160>\n\t[C]: in function 'assert'\n\t...rs/allanjie/torch/install/share/lua/5.2/rnn/MaskZero.lua:10: in function '__init'\n\t/Users/allanjie/torch/install/share/lua/5.2/torch/init.lua:91: in function </Users/allanjie/torch/install/share/lua/5.2/torch/init.lua:87>\n\t[C]: in function 'MaskZero'\n\t[string \"lt = nn.LookupTableMaskZero(vocabSize, embedd...\"]:14: in function 'buildBiGRU'\n\t[string \"lt = nn.LookupTableMaskZero(vocabSize, embedd...\"]:27: in main chunk\n\t[C]: in function 'xpcall'\n\t/Users/allanjie/torch/install/share/lua/5.2/itorch/main.lua:210: in function </Users/allanjie/torch/install/share/lua/5.2/itorch/main.lua:174>\n\t(...tail calls...)\n\t/Users/allanjie/torch/install/share/lua/5.2/lzmq/poller.lua:80: in function 'poll'\n\t.../allanjie/torch/install/share/lua/5.2/lzmq/impl/loop.lua:307: in function 'poll'\n\t.../allanjie/torch/install/share/lua/5.2/lzmq/impl/loop.lua:325: in function 'sleep_ex'\n\t.../allanjie/torch/install/share/lua/5.2/lzmq/impl/loop.lua:370: in function 'start'\n\t/Users/allanjie/torch/install/share/lua/5.2/itorch/main.lua:389: in main chunk\n\t[C]: in function 'require'\n\t(command line):1: in main chunk\n\t[C]: in ?"
     ]
    }
   ],
   "source": [
    "lt = nn.LookupTableMaskZero(vocabSize, embeddingSize)\n",
    "function buildBiGRU(inputSize, outputSize, dropout, tanhGRU)\n",
    "    local bigru = nn.Sequential():add(nn.Transpose({1,2})):add(nn.SplitTable(1))\n",
    "    local fwdSeq = nn.Sequencer(nn.GRU(inputSize, outputSize, 9999, dropout):maskZero(1))\n",
    "    local bwdSeq = nn.Sequential():add(nn.ReverseTable())\n",
    "    bwdSeq:add(nn.Sequencer(nn.GRU(inputSize, outputSize, 9999, dropout):maskZero(1)))\n",
    "    bwdSeq:add(nn.ReverseTable())\n",
    "    local biconcat = nn.ConcatTable():add(fwdSeq):add(bwdSeq)\n",
    "    bigru:add(biconcat):add(nn.ZipTable()):add(nn.Sequencer(nn.JoinTable(1,1)))\n",
    "    local mapTable = nn.MapTable()\n",
    "    local combineSize\n",
    "    if tanhGRU then\n",
    "        local mapOp = nn.Sequential()\n",
    "        mapOp:add(nn.Linear(2 * outputSize, outputSize)):add(nn.Tanh())\n",
    "        mapOp:add(nn.Unsqueeze(1))\n",
    "        mapTable:add(mapOp)\n",
    "        combineSize = outputSize\n",
    "    else\n",
    "        mapTable:add(nn.Unsqueeze(1))\n",
    "        combineSize = 2 * outputSize\n",
    "    end\n",
    "    bigru:add(mapTable):add(nn.JoinTable(1)):add(nn.Transpose({1,2}))\n",
    "    return bigru\n",
    "end\n",
    "\n",
    "brnn = nn.SeqBRNNGRU(embeddingSize, embeddingSize, true, nn.JoinTable(3))\n",
    "brgru = buildBiGRU(embeddingSize, embeddingSize, 0.0, true)"
   ]
  },
  {
   "cell_type": "code",
   "execution_count": 38,
   "metadata": {},
   "outputs": [
    {
     "data": {
      "text/plain": [
       " 2  1  4\n",
       " 3  2  0\n",
       "[torch.IntTensor of size 2x3]\n",
       "\n"
      ]
     },
     "execution_count": 38,
     "metadata": {},
     "output_type": "execute_result"
    }
   ],
   "source": [
    "input = torch.IntTensor(numSents,numWords)\n",
    "input[1][1] = 2\n",
    "input[1][2] = 1\n",
    "input[1][3] = 4\n",
    "input[2][1] = 3\n",
    "input[2][2] = 2\n",
    "input[2][3] = 0\n",
    "print(input)"
   ]
  },
  {
   "cell_type": "code",
   "execution_count": 36,
   "metadata": {},
   "outputs": [
    {
     "data": {
      "text/plain": [
       "(1,.,.) = \n",
       " -0.0141  0.3475 -0.3497  0.2816  0.3974  0.3191\n",
       " -0.0389  0.3808 -0.3601  0.1077  0.2891  0.1619\n",
       "  0.0742  0.3880 -0.2833 -0.2002  0.1299 -0.0313\n",
       "\n",
       "(2,.,.) = \n",
       "  0.4337  0.2791  0.2098 -0.3954 -0.2281 -0.0576\n",
       "  0.3387  0.4157 -0.2608  0.2314  0.1910  0.2806\n",
       "  0.0000  0.0000  0.0000  0.0000  0.0000  0.0000\n",
       "[torch.DoubleTensor of size 2x3x6]\n",
       "\n"
      ]
     },
     "execution_count": 36,
     "metadata": {},
     "output_type": "execute_result"
    }
   ],
   "source": [
    "ylt = lt:forward(input)\n",
    "-- print(ylt)\n",
    "-- ybrnn = \n",
    "ybrnn = brgru:forward(ylt)\n",
    "print(ybrnn)"
   ]
  },
  {
   "cell_type": "code",
   "execution_count": null,
   "metadata": {},
   "outputs": [],
   "source": []
  },
  {
   "cell_type": "code",
   "execution_count": null,
   "metadata": {},
   "outputs": [],
   "source": []
  }
 ],
 "metadata": {
  "kernelspec": {
   "display_name": "iTorch",
   "language": "lua",
   "name": "itorch"
  },
  "language_info": {
   "name": "lua",
   "version": "5.2"
  }
 },
 "nbformat": 4,
 "nbformat_minor": 2
}
